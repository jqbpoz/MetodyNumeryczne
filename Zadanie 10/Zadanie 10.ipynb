{
 "cells": [
  {
   "cell_type": "markdown",
   "metadata": {},
   "source": [
    "Warunki startowe Programu :"
   ]
  },
  {
   "cell_type": "code",
   "execution_count": 8,
   "metadata": {},
   "outputs": [
    {
     "data": {
      "text/plain": [
       "3×3 Matrix{Int64}:\n",
       "  4  -1   0\n",
       " -1   4  -1\n",
       "  0  -1   4"
      ]
     },
     "metadata": {},
     "output_type": "display_data"
    }
   ],
   "source": [
    "using Plots , LinearAlgebra\n",
    "max_i=10000\n",
    "epsilon = 1e-8\n",
    "matrix = [4 -1 0; -1 4 -1; 0 -1 4]"
   ]
  },
  {
   "cell_type": "markdown",
   "metadata": {},
   "source": [
    "#### Metoda __Potęgowa__\n",
    "\n",
    "Opis Algorytmu\n",
    "\n",
    "   a. Inicjalizacja losowego wektora `v`.\n",
    "   \n",
    "   b. Normalizacja wektora `v`.\n",
    "   \n",
    "   c. Iteracje do maksymalnej liczby iteracji (`max_i`).\n",
    "   \n",
    "   d. Obliczenie nowego wektora `v_new` przez pomnożenie macierzy `matrix_c` przez wektor `v`.\n",
    "   \n",
    "   e. Obliczenie wartości własnej (`eigen`) jako iloczynu skalarnego wektorów `v` i `v_new`.\n",
    "   \n",
    "   f. Normalizacja wektora `v_new`.\n",
    "   \n",
    "   g. Sprawdzenie warunku zbieżności. Przerwanie iteracji, jeśli warunek spełniony.\n",
    "   \n",
    "   h. Aktualizacja macierzy `matrix_c` odejmując wartość własną pomnożoną przez zewnętrzny iloczyn wektorów (`v * v'`).\n",
    "   \n",
    "Jest to implementacja metody __Potęgowej__ w wersji pozwalającej obliczyć każdy wektor własny wraz z wartością, po znalezieniu jednej wartości własnej metoda odejmuje składnik dominujący\n",
    "`matrix_c -= eigen * (v * v')`\n",
    "następnie ponownie aplikuje metodę potęgową na zdeflowanej macierzy w celu znalezienia kolejnej wartości własnej. Ten proces jest powtarzany, aż do uzyskania wszystkich wartości własnych.\n"
   ]
  },
  {
   "cell_type": "code",
   "execution_count": 9,
   "metadata": {},
   "outputs": [
    {
     "name": "stdout",
     "output_type": "stream",
     "text": [
      "Liczba iteracji po których osiągnięto dokładność 65\n",
      "Wartość własna: 5.414213562373095\n",
      "Dla wektora [0.5000000043583002, -0.7071067811865475, 0.4999999956416999]\n",
      "Liczba iteracji po których osiągnięto dokładność 47\n",
      "Wartość własna: 4.0\n",
      "Dla wektora [0.7071067795679989, 9.509410536789886e-9, -0.707106782805096]\n",
      "Liczba iteracji po których osiągnięto dokładność 2\n",
      "Wartość własna: 2.585786437626905\n",
      "Dla wektora [0.49999999441528714, 0.7071067811865476, 0.5000000055847127]\n"
     ]
    }
   ],
   "source": [
    "matrix_c = copy(matrix)\n",
    "function power(matrix_c,max_i, epsilon)\n",
    "    n = size(matrix_c, 1)\n",
    "    for _ in 1:n\n",
    "        v = randn(n)\n",
    "        v /= norm(v, 2)\n",
    "        eigen = 0.0\n",
    "        for i in 1:max_i\n",
    "            v_new = matrix_c * v\n",
    "            eigen = dot(v, v_new)\n",
    "            v = v_new / norm(v_new, 2)\n",
    "            if norm(matrix_c * v - eigen * v, 2) < epsilon\n",
    "                println(\"Liczba iteracji po których osiągnięto dokładność \",i)\n",
    "                break\n",
    "            end\n",
    "        end\n",
    "        matrix_c -= eigen * (v * v')\n",
    "        println(\"Wartość własna: \",eigen,\"\\nDla wektora \",v)\n",
    "    end\n",
    "end\n",
    "@time power(matrix_c,max_i,epsilon)\n"
   ]
  },
  {
   "cell_type": "markdown",
   "metadata": {},
   "source": [
    "#### Metoda __Rayleigha__\n",
    "\n",
    "Opis Algorytmu\n",
    "\n",
    "   a. Inicjalizacja wektora `v` jako wektora jednostkowego.\n",
    "   \n",
    "   b. Iteracje do maksymalnej liczby iteracji (`max_i`).\n",
    "   \n",
    "   c. Obliczenie wartości własnej (`eigen`) jako iloczynu skalarnego wektora `v` i macierzy `matrix` pomnożonej przez wektor `v`.\n",
    "   \n",
    "   d. Aktualizacja wektora własnego (`v`) poprzez pomnożenie macierzy `matrix` przez wektor `v`.\n",
    "   \n",
    "   e. Normalizacja wektora `v`.\n",
    "   \n",
    "   f. Sprawdzenie warunku zbieżności. Przerwanie iteracji, jeśli warunek spełniony.\n"
   ]
  },
  {
   "cell_type": "code",
   "execution_count": 10,
   "metadata": {},
   "outputs": [
    {
     "name": "stdout",
     "output_type": "stream",
     "text": [
      "Liczba iteracji po których osiągnięto dokładność 29\n",
      "Wartość własna: 5.414213562373095\n",
      "Dla wektora [0.5000000014360919, -0.7071067791556069, 0.5000000014360919]\n"
     ]
    }
   ],
   "source": [
    "matrix_c = copy(matrix)\n",
    "function rayleigh(matrix, max_i, epsilon)\n",
    "    n = size(matrix, 1)\n",
    "    eigen = 0.0\n",
    "    v = ones(n) / sqrt(n)  \n",
    "    for i in 1:max_i\n",
    "        eigen = dot(v, matrix * v)\n",
    "        v = matrix * v\n",
    "        v /= norm(v)\n",
    "        if norm(matrix * v - eigen * v) < epsilon\n",
    "            println(\"Liczba iteracji po których osiągnięto dokładność \", i)\n",
    "            break\n",
    "        end\n",
    "    end\n",
    "    println(\"Wartość własna: \", eigen, \"\\nDla wektora \", v)\n",
    "end \n",
    "@time rayleigh(matrix_c, max_i, epsilon)\n"
   ]
  },
  {
   "cell_type": "markdown",
   "metadata": {},
   "source": [
    "#### Metoda __QR__\n",
    "\n",
    "a. Inicjalizacja macierzy ortogonalnej \\(V\\) jako macierzy jednostkowej.\n",
    "\n",
    "   b. Iteracje do maksymalnej liczby iteracji (`max_i`).\n",
    "\n",
    "   c. Obliczenie rozkładu QR macierzy `matrix_c`, gdzie \\(Q\\) to macierz ortogonalna, a \\(R\\) to macierz trójkątna górna.\n",
    "\n",
    "   d. Aktualizacja macierzy `matrix_c` jako iloczyn \\(R i Q\\).\n",
    "\n",
    "   e. Akumulacja macierzy ortogonalnej \\(V\\) przez mnożenie przez \\(Q\\).\n",
    "\n",
    "   f. Sprawdzenie warunku zbieżności. Przerwanie iteracji, jeśli warunek spełniony."
   ]
  },
  {
   "cell_type": "code",
   "execution_count": 11,
   "metadata": {},
   "outputs": [
    {
     "name": "stdout",
     "output_type": "stream",
     "text": [
      "Liczba iteracji po których osiągnięto dokładność 65\n",
      "Wartość własna: 5.414213562373096\n",
      "Dla wektora [-0.5000000028451155, 0.7071067811865502, -0.4999999971548882]\n",
      "Wartość własna: 4.000000000000001\n",
      "Dla wektora [-0.7071067791750913, -2.845596956565709e-9, 0.7071067831980081]\n",
      "Wartość własna: 2.585786437626904\n",
      "Dla wektora [0.4999999999995166, 0.7071067811865475, 0.5000000000004825]\n"
     ]
    }
   ],
   "source": [
    "matrix_c = copy(matrix)\n",
    "function qr_method(matrix_c, max_i, epsilon)\n",
    "    n = size(matrix_c, 1)\n",
    "    V = I(n) \n",
    "    for i in 1:max_i\n",
    "        Q, R = qr(matrix_c)\n",
    "        matrix_c = R * Q\n",
    "        V *= Q\n",
    "        if norm(matrix_c - diagm(diag(matrix_c))) < epsilon\n",
    "            println(\"Liczba iteracji po których osiągnięto dokładność \",i)\n",
    "            break\n",
    "        end\n",
    "    end\n",
    "    eigenvalues = diag(matrix_c)\n",
    "    eigenvectors = V\n",
    "    return eigenvalues, eigenvectors\n",
    "end\n",
    "\n",
    "@time eigenvalues, eigenvectors = qr_method(matrix_c,max_i,epsilon)\n",
    "\n",
    "for i in 1:size(matrix_c,1)\n",
    "    println(\"Wartość własna: \",eigenvalues[i],\"\\nDla wektora \",eigenvectors[:,i])\n",
    "end"
   ]
  },
  {
   "cell_type": "code",
   "execution_count": 12,
   "metadata": {},
   "outputs": [
    {
     "data": {
      "text/plain": [
       "Eigen{Float64, Float64, Matrix{Float64}, Vector{Float64}}\n",
       "values:\n",
       "3-element Vector{Float64}:\n",
       " 2.585786437626906\n",
       " 4.000000000000002\n",
       " 5.414213562373095\n",
       "vectors:\n",
       "3×3 Matrix{Float64}:\n",
       " 0.5        0.707107     -0.5\n",
       " 0.707107  -7.85046e-16   0.707107\n",
       " 0.5       -0.707107     -0.5"
      ]
     },
     "metadata": {},
     "output_type": "display_data"
    }
   ],
   "source": [
    "@time eigenvalues, eigenvectors = eigen(matrix)"
   ]
  }
 ],
 "metadata": {
  "kernelspec": {
   "display_name": "Julia 1.9.4",
   "language": "julia",
   "name": "julia-1.9"
  },
  "language_info": {
   "file_extension": ".jl",
   "mimetype": "application/julia",
   "name": "julia",
   "version": "1.9.4"
  }
 },
 "nbformat": 4,
 "nbformat_minor": 2
}
