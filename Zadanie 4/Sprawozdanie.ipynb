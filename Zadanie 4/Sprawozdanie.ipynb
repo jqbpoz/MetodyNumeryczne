{
 "cells": [
  {
   "cell_type": "markdown",
   "metadata": {},
   "source": [
    "Rozwiązanie układnu równań sprowadzać się będzie do rozwiązania układu $Ay=b$ Można zauważyć,że macież $A$ ma pewną stałą postać zależną od $h$. W dodadku jest to macierz podobna do macierzy __trójdiagonalnej__ która dodatkowo posiada niezerowy element w pierwszej kolumnie oraz ostanim wierszu co komplikuje obliczenia.  \n",
    "\n",
    "$$\\frac{y_{n-1}-2y_n+ y_{n+1}}{h^2} + y_n = 0$$ \n",
    "$$y_{n-1}+(h^2-2)y_n+ y_{n+1} = 0$$\n",
    "$$y_0=1$$\n",
    "$$y_0+y_{N-1}-2y_N+=0$$\n",
    "\n",
    "$$\n",
    "A =\n",
    "\\begin{bmatrix}\n",
    "  1 & 0 & 0 & \\cdots & 0 \\\\\n",
    "  1 & h^2-2  & 1 & \\cdots & 0 \\\\\n",
    "  0 & 1 & h^2 - 2 & \\ddots & \\vdots \\\\\n",
    "  \\vdots & \\vdots & \\ddots & \\ddots & 1 \\\\\n",
    "  1 & \\cdots & \\cdots & 1 & -2\n",
    "\\end{bmatrix}\n",
    "y = \\begin{bmatrix} y_0 \\\\ y_1 \\\\ y_2 \\\\y_3 \\\\ \\vdots \\\\ y_N \\end{bmatrix}\n",
    "b = \\begin{bmatrix} 1 \\\\ 0 \\\\ 0 \\\\0 \\\\ \\vdots \\\\ 0 \\end{bmatrix}\n",
    "\n",
    "$$\n",
    "\n",
    "Jednak macierz bardzo prosto można sprowadzić do macierzy __trójdiagonalnej__ wykonując pewne przekształcenia. Zauważmy , że $y_0$ = 1 równanie ostatniego wiersza ma postać \n",
    "$$1+y_{N-1}-2y_N+=0$$\n",
    "$$y_{N-1}-2y_N+=-1$$\n",
    "\n",
    "Teraz macierz oraz wektory mają postać: \n",
    "\n",
    "$$\n",
    "A =\n",
    "\\begin{bmatrix}\n",
    "  1 & 0 & 0 & \\cdots & 0 \\\\\n",
    "  1 & h^2-2  & 1 & \\cdots & 0 \\\\\n",
    "  0 & 1 & h^2 - 2 & \\ddots & \\vdots \\\\\n",
    "  \\vdots & \\vdots & \\ddots & \\ddots & 1 \\\\\n",
    "  0 & \\cdots & \\cdots & 1 & -2\n",
    "\\end{bmatrix}\n",
    "\n",
    "y = \\begin{bmatrix} y_0 \\\\ y_1 \\\\ y_2 \\\\y_3 \\\\ \\vdots \\\\ y_N \\end{bmatrix}\n",
    "b = \\begin{bmatrix} 1 \\\\ 0 \\\\ 0 \\\\0 \\\\ \\vdots \\\\ -1 \\end{bmatrix}\n",
    "\n",
    "$$\n",
    "\n",
    "___Po przekształceniach zastosować możemy dokładnie ten sam algorytm do w zadaniu NR3___\n",
    "\n",
    "Zaimplementowanie samej macierzy $A$ staje się bardzo proste. Instotnym elementem jest jednak nie zapełnianie nadmierniej ilosci pamięci. Macierz trójdianonalną przechowywać możemy w formie 3 wektorów. \n",
    "\n",
    "$$\n",
    "u_{i,{j+1}} = \\begin{bmatrix} 0, & 1, & 1, \\cdots & 1 \\end{bmatrix}\n",
    "$$\n",
    "$$\n",
    "d_{i,j} = \\begin{bmatrix} 1, & h^2-2, & h^2-2, & \\cdots & h^2-2, & -2 \\end{bmatrix}\n",
    "$$\n",
    "$$\n",
    "l_{{i+1},j} = \\begin{bmatrix} 1, & 1, & 1, \\cdots & 1 \\end{bmatrix}\n",
    "$$\n",
    "\n"
   ]
  },
  {
   "cell_type": "markdown",
   "metadata": {},
   "source": [
    "Aby unikąć liczenia macierzy odwrotnej które zajęło by czas $O(n^3) $ $$ y=A^{-1}b$$ \n",
    "Można zostosować algorytm Thomasa w celu zoopimalizowania faktoryzacji macierzy \n",
    "- Faktoryzacja $L U$ macierzy __trójdiagonalnej__ dokonana zostanie w czasie  $O(n)$ \n"
   ]
  },
  {
   "cell_type": "code",
   "execution_count": null,
   "metadata": {},
   "outputs": [],
   "source": [
    "#Procedura faktoryzacji:\n",
    "for i in 2:n\n",
    "    factor = v2[i-1] / diagonal[i-1]\n",
    "    diagonal[i] -= factor * v1[i-1]\n",
    "    v1[i-1] = factor\n",
    "end\n"
   ]
  },
  {
   "cell_type": "markdown",
   "metadata": {},
   "source": [
    "Następnie znając już macierze $L$ oraz $U$ zapisane w formie wektorowej algorytmem __forward substitution__ oraz __backward substitution__ obliczam wektor wartosci wedle wzorów :\n",
    "$$Lx=b$$\n",
    "$$Uy=x$$"
   ]
  },
  {
   "cell_type": "markdown",
   "metadata": {},
   "source": [
    "\n",
    "Całościowe rozwiązanie takiego układu ma złożoność $O(n)$"
   ]
  }
 ],
 "metadata": {
  "kernelspec": {
   "display_name": "Julia 1.9.4",
   "language": "julia",
   "name": "julia-1.9"
  },
  "language_info": {
   "file_extension": ".jl",
   "mimetype": "application/julia",
   "name": "julia",
   "version": "1.9.4"
  }
 },
 "nbformat": 4,
 "nbformat_minor": 2
}
