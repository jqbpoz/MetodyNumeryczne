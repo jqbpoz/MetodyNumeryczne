{
 "cells": [
  {
   "cell_type": "markdown",
   "metadata": {},
   "source": [
    "Warunki startowe Programu :"
   ]
  },
  {
   "cell_type": "code",
   "execution_count": 301,
   "metadata": {},
   "outputs": [
    {
     "data": {
      "text/plain": [
       "3×3 Matrix{Int64}:\n",
       " 1  2   3\n",
       " 2  4   5\n",
       " 3  5  -1"
      ]
     },
     "metadata": {},
     "output_type": "display_data"
    }
   ],
   "source": [
    "using Plots , LinearAlgebra\n",
    "max_i=10000\n",
    "epsilon = 1e-10\n",
    "matrix = [1 2 3; 2 4 5; 3 5 -1]"
   ]
  },
  {
   "cell_type": "markdown",
   "metadata": {},
   "source": [
    "#### Metoda __Potęgowa__\n",
    "\n",
    "Opis Algorytmu\n",
    "\n",
    "   a. Inicjalizacja losowego wektora `v`.\n",
    "   \n",
    "   b. Normalizacja wektora `v`.\n",
    "   \n",
    "   c. Iteracje do maksymalnej liczby iteracji (`max_i`).\n",
    "   \n",
    "   d. Obliczenie nowego wektora `v_new` przez pomnożenie macierzy `matrix_c` przez wektor `v`.\n",
    "   \n",
    "   e. Obliczenie wartości własnej (`eigen`) jako iloczynu skalarnego wektorów `v` i `v_new`.\n",
    "   \n",
    "   f. Normalizacja wektora `v_new`.\n",
    "   \n",
    "   g. Sprawdzenie warunku zbieżności. Przerwanie iteracji, jeśli warunek spełniony.\n",
    "   \n",
    "   h. Aktualizacja macierzy `matrix_c` odejmując wartość własną pomnożoną przez zewnętrzny iloczyn wektorów (`v * v'`).\n",
    "   \n",
    "Jest to implementacja metody __Potęgowej__ w wersji pozwalającej obliczyć każdy wektor własny wraz z wartością, po znalezieniu jednej wartości własnej metoda odejmuje składnik dominujący\n",
    "`matrix_c -= eigen * (v * v')`\n",
    "następnie ponownie aplikuje metodę potęgową na zdeflowanej macierzy w celu znalezienia kolejnej wartości własnej. Ten proces jest powtarzany, aż do uzyskania wszystkich wartości własnych.\n"
   ]
  },
  {
   "cell_type": "code",
   "execution_count": 302,
   "metadata": {},
   "outputs": [
    {
     "name": "stdout",
     "output_type": "stream",
     "text": [
      "Liczba iteracji po których osiągnięto dokładność 40\n",
      "Wartość własna: 8.548512853222785\n",
      "Dla wektora [0.4059533322650147, 0.7509847864456235, 0.520791457831397]\n",
      "Liczba iteracji po których osiągnięto dokładność 5\n",
      "Wartość własna: -4.574087225857106\n",
      "Dla wektora [-0.30580263397330276, -0.4253864432242941, 0.8517811473471192]\n",
      "Liczba iteracji po których osiągnięto dokładność 2\n",
      "Wartość własna: 0.025574372634318235\n",
      "Dla wektora [0.8612123090535558, -0.5050427945340213, 0.05696608134591154]\n"
     ]
    }
   ],
   "source": [
    "matrix_c = copy(matrix)\n",
    "function power(matrix_c,max_i, epsilon)\n",
    "    n = size(matrix_c, 1)\n",
    "    for _ in 1:n\n",
    "        v = randn(n)\n",
    "        v /= norm(v, 2)\n",
    "        eigen = 0.0\n",
    "        for i in 1:max_i\n",
    "            v_new = matrix_c * v\n",
    "            eigen = dot(v, v_new)\n",
    "            v = v_new / norm(v_new, 2)\n",
    "            if norm(matrix_c * v - eigen * v, 2) < epsilon\n",
    "                println(\"Liczba iteracji po których osiągnięto dokładność \",i)\n",
    "                break\n",
    "            end\n",
    "        end\n",
    "        matrix_c -= eigen * (v * v')\n",
    "        println(\"Wartość własna: \",eigen,\"\\nDla wektora \",v)\n",
    "    end\n",
    "end\n",
    "power(matrix_c,max_i,epsilon)\n"
   ]
  },
  {
   "cell_type": "markdown",
   "metadata": {},
   "source": [
    "#### Metoda __Rayleigha__\n",
    "\n",
    "Opis Algorytmu\n",
    "\n",
    "   a. Inicjalizacja wektora `v` jako wektora jednostkowego.\n",
    "   \n",
    "   b. Iteracje do maksymalnej liczby iteracji (`max_i`).\n",
    "   \n",
    "   c. Obliczenie wartości własnej (`eigen`) jako iloczynu skalarnego wektora `v` i macierzy `matrix` pomnożonej przez wektor `v`.\n",
    "   \n",
    "   d. Aktualizacja wektora własnego (`v`) poprzez pomnożenie macierzy `matrix` przez wektor `v`.\n",
    "   \n",
    "   e. Normalizacja wektora `v`.\n",
    "   \n",
    "   f. Sprawdzenie warunku zbieżności. Przerwanie iteracji, jeśli warunek spełniony.\n"
   ]
  },
  {
   "cell_type": "code",
   "execution_count": 305,
   "metadata": {},
   "outputs": [
    {
     "name": "stdout",
     "output_type": "stream",
     "text": [
      "Liczba iteracji po których osiągnięto dokładność 37\n",
      "Wartość własna: 8.548512853222787\n",
      "Dla wektora [0.4059533322650253, 0.7509847864456384, 0.5207914578313675]\n"
     ]
    }
   ],
   "source": [
    "matrix_c = copy(matrix)\n",
    "function rayleigh(matrix, max_i, epsilon)\n",
    "    n = size(matrix, 1)\n",
    "    eigen = 0.0\n",
    "    v = ones(n) / sqrt(n)  \n",
    "    for i in 1:max_i\n",
    "        eigen = dot(v, matrix * v)\n",
    "        v = matrix * v\n",
    "        v /= norm(v)\n",
    "        if norm(matrix * v - eigen * v) < epsilon\n",
    "            println(\"Liczba iteracji po których osiągnięto dokładność \", i)\n",
    "            break\n",
    "        end\n",
    "    end\n",
    "    println(\"Wartość własna: \", eigen, \"\\nDla wektora \", v)\n",
    "end \n",
    "rayleigh(matrix_c, max_i, epsilon)\n"
   ]
  },
  {
   "cell_type": "markdown",
   "metadata": {},
   "source": [
    "#### Metoda __QR__\n",
    "\n",
    "a. Inicjalizacja macierzy ortogonalnej \\(V\\) jako macierzy jednostkowej.\n",
    "\n",
    "   b. Iteracje do maksymalnej liczby iteracji (`max_i`).\n",
    "\n",
    "   c. Obliczenie rozkładu QR macierzy `matrix_c`, gdzie \\(Q\\) to macierz ortogonalna, a \\(R\\) to macierz trójkątna górna.\n",
    "\n",
    "   d. Aktualizacja macierzy `matrix_c` jako iloczyn \\(R i Q\\).\n",
    "\n",
    "   e. Akumulacja macierzy ortogonalnej \\(V\\) przez mnożenie przez \\(Q\\).\n",
    "\n",
    "   f. Sprawdzenie warunku zbieżności. Przerwanie iteracji, jeśli warunek spełniony."
   ]
  },
  {
   "cell_type": "code",
   "execution_count": 304,
   "metadata": {},
   "outputs": [
    {
     "name": "stdout",
     "output_type": "stream",
     "text": [
      "Liczba iteracji po których osiągnięto dokładność 42\n"
     ]
    },
    {
     "name": "stdout",
     "output_type": "stream",
     "text": [
      "Wartość własna: 8.54851285322279\n",
      "Dla wektora [0.40595333226396413, 0.7509847864441626, 0.5207914578343267]\n",
      "Wartość własna: -4.574087225857102\n",
      "Dla wektora [0.3058026339655925, 0.4253864432140819, -0.8517811473549874]\n",
      "Wartość własna: 0.02557437263431785\n",
      "Dla wektora [-0.8612123089479676, 0.5050427946808966, -0.056966081640040724]\n"
     ]
    }
   ],
   "source": [
    "matrix_c = copy(matrix)\n",
    "function qr_method(matrix_c, max_i, epsilon)\n",
    "    n = size(matrix_c, 1)\n",
    "    V = I(n) \n",
    "    for i in 1:max_i\n",
    "        Q, R = qr(matrix_c)\n",
    "        matrix_c = R * Q\n",
    "        V *= Q\n",
    "        if norm(matrix_c - diagm(diag(matrix_c))) < epsilon\n",
    "            println(\"Liczba iteracji po których osiągnięto dokładność \",i)\n",
    "            break\n",
    "        end\n",
    "    end\n",
    "    eigenvalues = diag(matrix_c)\n",
    "    eigenvectors = V\n",
    "    return eigenvalues, eigenvectors\n",
    "end\n",
    "eigenvalues, eigenvectors = qr_method(matrix_c,max_i,epsilon)\n",
    "\n",
    "for i in 1:size(matrix_c,1)\n",
    "    println(\"Wartość własna: \",eigenvalues[i],\"\\nDla wektora \",eigenvectors[:,i])\n",
    "end"
   ]
  },
  {
   "cell_type": "markdown",
   "metadata": {},
   "source": [
    "W zależności od wywołania oraz metody wyniki mogą lekko się różnić natomiast są one równoznaczne ze sobą oraz mają postać: \n",
    "$$\n",
    "v_1 =\\begin{bmatrix} 0.40595333226396413 \\\\ 0.7509847864441626 \\\\ 0.5207914578343267 \\end{bmatrix} \\lambda_1 =8.54851285322279\n",
    "$$\n",
    "$$\n",
    "v_2 = \\begin{bmatrix} 0.3058026339655925 \\\\ 0.4253864432140819 \\\\ -0.8517811473549874 \\end{bmatrix} \\lambda_2 = -4.574087225857102\n",
    "$$\n",
    "$$\n",
    "v_3 = \\begin{bmatrix} -0.8612123089479676 \\\\ 0.5050427946808966 \\\\-0.056966081640040724]\\end{bmatrix} \\lambda_3 = 0.02557437263431785\n",
    "$$"
   ]
  }
 ],
 "metadata": {
  "kernelspec": {
   "display_name": "Julia 1.9.4",
   "language": "julia",
   "name": "julia-1.9"
  },
  "language_info": {
   "file_extension": ".jl",
   "mimetype": "application/julia",
   "name": "julia",
   "version": "1.9.4"
  }
 },
 "nbformat": 4,
 "nbformat_minor": 2
}
