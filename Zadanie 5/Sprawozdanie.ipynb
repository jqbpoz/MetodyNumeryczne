{
 "cells": [
  {
   "cell_type": "markdown",
   "metadata": {},
   "source": [
    "Zadanie rozwiązane zostało w sposób iteracyjny po uprzednim jawnym wyliczeniu wartości początkowych\n",
    "\n",
    "$$\\frac{y_{n-1}-2y_n+ y_{n+1}}{h^2} + y_n = 0$$ \n",
    "$$y_{n-1}+(h^2-2)y_n+ y_{n+1} = 0$$ \n",
    "$$-3y_0+4y_1+y_2+=0$$\n",
    "\n",
    "Jeżeli $y_0=1$ możemy stworzyć układ równań oraz wyliczyć wzór na $y_1$ oraz $y_2$ \n",
    "\\begin{equation}\n",
    "\\left\\{\n",
    "\\begin{aligned}\n",
    "    y_0 &= 1 \\\\\n",
    "    y_0 + (h^2 -2)y_1 + y_2 &= 0 \\\\\n",
    "    -3y_0 + 4y_1 + y_2 &= 0 \n",
    "\\end{aligned}\n",
    "\\right.\n",
    "\\end{equation}\n",
    "$$\n",
    "y_0=1 \\quad\n",
    "y_1=\\frac{-4}{h^2-6} \\quad\n",
    "y_2=\\frac{16}{h^2-6}+3\n",
    "$$\n",
    "\n",
    "Rozwiązania $y$ będzie można znaleść iteracyjnie za pomocą wzoru:\n",
    "$$y_{n+1} =- y_{n-1} -(h^2-2)y_n $$\n",
    "uwzględniając wartości początkowe $ y_0 , y_1 , y_2 $ \n",
    "\n",
    "Całościowe rozwiązanie takiego układu ma złożoność $O(n)$\n",
    "\n",
    "\n",
    "\n"
   ]
  }
 ],
 "metadata": {
  "kernelspec": {
   "display_name": "Julia 1.9.4",
   "language": "julia",
   "name": "julia-1.9"
  },
  "language_info": {
   "file_extension": ".jl",
   "mimetype": "application/julia",
   "name": "julia",
   "version": "1.9.4"
  }
 },
 "nbformat": 4,
 "nbformat_minor": 2
}
